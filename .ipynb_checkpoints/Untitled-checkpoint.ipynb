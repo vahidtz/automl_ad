{
 "cells": [
  {
   "cell_type": "code",
   "execution_count": null,
   "metadata": {},
   "outputs": [],
   "source": [
    "from Models_List import models_dict\n",
    "from AutoModel import DataModel\n",
    "import matplotlib.pyplot as plt; plt.rcdefaults()\n",
    "import numpy as np\n",
    "import matplotlib.pyplot as plt\n",
    "from configparser import ConfigParser\n",
    "\n",
    "#  This is a classification auto ml that runs the skit learn internal different classification models based,\n",
    "# creates ROC chart and returns the best model along with its score\n",
    "\n",
    "# read parameters\n",
    "parser = ConfigParser()\n",
    "parser.read('config.ini')\n",
    "\n",
    "filename = parser.get('files', 'filename')\n",
    "test_size = eval(parser.get('model', 'test_size'))\n",
    "target = parser.get('model', 'target')\n",
    "scoring_type = parser.get('model', 'scoring_type')\n",
    "\n",
    "# Creating an instance of experiment and initializing the properties\n",
    "experiment = DataModel(filename, scoring_type, test_size=test_size, target=target)\n",
    "results = []\n",
    "models_list = []\n",
    "scores_list = []\n",
    "model_files_list = []\n",
    "\n",
    "for model_name, model in models_dict.items():\n",
    "    score, model_file = list(experiment.run(model_name, model))\n",
    "    results.append({model_name: [score, model_file]})\n",
    "    models_list.append(model_name)\n",
    "    scores_list.append(score)\n",
    "    model_files_list.append(model_file)\n",
    "print(results)\n",
    "\n",
    "best_score = max(scores_list)\n",
    "best_score_index = scores_list.index(best_score)\n",
    "best_model = models_list[best_score_index]\n",
    "best_model_file = model_files_list[best_score_index]\n",
    "\n",
    "# creating bar chart for all classification models\n",
    "y_pos = np.arange(len(models_list))\n",
    "scores = scores_list\n",
    "plt.bar(y_pos, scores_list, align='center', alpha=0.5)\n",
    "plt.xticks(y_pos, models_list)\n",
    "plt.ylabel(scoring_type)\n",
    "plt.title('Model Performance')\n",
    "plt.show()\n",
    "\n",
    "# Creating ROC\n",
    "experiment.roc(best_model_file, best_model)\n",
    "\n",
    "\n"
   ]
  }
 ],
 "metadata": {
  "kernelspec": {
   "display_name": "Python 3",
   "language": "python",
   "name": "python3"
  },
  "language_info": {
   "codemirror_mode": {
    "name": "ipython",
    "version": 3
   },
   "file_extension": ".py",
   "mimetype": "text/x-python",
   "name": "python",
   "nbconvert_exporter": "python",
   "pygments_lexer": "ipython3",
   "version": "3.7.5"
  }
 },
 "nbformat": 4,
 "nbformat_minor": 2
}
