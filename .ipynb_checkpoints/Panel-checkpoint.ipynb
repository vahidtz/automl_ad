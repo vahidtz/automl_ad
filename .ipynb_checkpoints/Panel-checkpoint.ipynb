{
 "cells": [
  {
   "cell_type": "markdown",
   "metadata": {},
   "source": [
    "# Binary Classifiction Auto ML\n",
    "This application is a binary classification AUTO ML which runs 6 different models and chooses the best one based on the score picked by user. After running this program, you will get the score diagram of all models, ROC chart of the best model, and pickled files of all 6 models.\n",
    "\n",
    "Models used in this Auto ML\n",
    "Models used in this application: 1- Decision Tree 2- Random Forest 3- K Nearest Neighbors 4- NeuralNetwork 5- SVM 6- Logistic Regression\n",
    "\n",
    "## How to run Classification Auto ML?\n",
    "    1-  Copy all the files in this directory in your computer\n",
    "\n",
    "    2- Make a virtual environment with a fresh Python version=3.7 for example if you use conda:\n",
    "       \"conda create --name env_name python=3.7\"\n",
    "\n",
    "    3- Go to the application folder that you have already copied and using pip, run the following command\n",
    "       to install all the required Python modules used in this application.\n",
    "\n",
    "       \"pip install -r requirements.txt\"\n",
    "\n",
    "       Note: It may take a couple of minutes to install all modules, do not stop the installation early if there is no\n",
    "       either error or success messages.\n",
    "\n",
    "    4- Initialize the config.ini with these parameters using a text editor like notepad.exe:\n",
    "\n",
    "        filename:  Full path of the input file. This app assumes that all test and training data are integrated in\n",
    "        one csv file.\n",
    "        Example: C:/Users/danta/PycharmProjects/automl_ad/diabet.csv\n",
    "\n",
    "        test_size = The size of test data you want be chooses off the whole data. This number is between 0 and 1.\n",
    "        Example: 0.25\n",
    "\n",
    "        target: The target column of your data\n",
    "        Example: class\n",
    "\n",
    "        scoring_type: The type of score you want Auto ML chooses the model based on. For this application available options\n",
    "        are: [accuracy, precision, average_precision_score, f1_score, log_loss, recall]\n",
    "        Example: accuracy\n",
    "\n",
    "    5-  After initializing the config.ini, please run the \"Panel.py\" file or keep executing the next cells of this file.\n",
    "\n",
    "## How to add a new model to this Auto Model?\n",
    "    Please refer to help document of this application (\"help.txt\"). "
   ]
  },
  {
   "cell_type": "markdown",
   "metadata": {},
   "source": [
    "### Import Modules"
   ]
  },
  {
   "cell_type": "code",
   "execution_count": 5,
   "metadata": {},
   "outputs": [],
   "source": [
    "from Models_List import models_dict\n",
    "from AutoModel import DataModel\n",
    "import matplotlib.pyplot as plt; plt.rcdefaults()\n",
    "import numpy as np\n",
    "import matplotlib.pyplot as plt\n",
    "from configparser import ConfigParser\n",
    "%matplotlib qt"
   ]
  },
  {
   "cell_type": "markdown",
   "metadata": {},
   "source": [
    "### Fetch the Parameters"
   ]
  },
  {
   "cell_type": "code",
   "execution_count": 6,
   "metadata": {},
   "outputs": [],
   "source": [
    "parser = ConfigParser()\n",
    "parser.read('config.ini')\n",
    "filename = parser.get('files', 'filename')\n",
    "test_size = eval(parser.get('model', 'test_size'))\n",
    "target = parser.get('model', 'target')\n",
    "scoring_type = parser.get('model', 'scoring_type')"
   ]
  },
  {
   "cell_type": "markdown",
   "metadata": {},
   "source": [
    "### Create an instance of experiment"
   ]
  },
  {
   "cell_type": "code",
   "execution_count": 3,
   "metadata": {},
   "outputs": [],
   "source": [
    "experiment = DataModel(filename, scoring_type, test_size=test_size, target=target)"
   ]
  },
  {
   "cell_type": "markdown",
   "metadata": {},
   "source": [
    "### Trigger the experiment"
   ]
  },
  {
   "cell_type": "code",
   "execution_count": 4,
   "metadata": {},
   "outputs": [
    {
     "name": "stdout",
     "output_type": "stream",
     "text": [
      "Score on test data by Decision Tree is: 0.5271317829457364\n",
      "Score on test data by Random Forest is: 0.5873015873015873\n",
      "Score on test data by SVM is: 0.5789473684210527\n",
      "Score on test data by KNN is: 0.6031746031746031\n",
      "Score on test data by Logistic Regression is: 0.6101694915254237\n",
      "WARNING:tensorflow:From c:\\users\\vmoha\\anaconda2\\envs\\automl_ad\\lib\\site-packages\\keras\\backend\\tensorflow_backend.py:74: The name tf.get_default_graph is deprecated. Please use tf.compat.v1.get_default_graph instead.\n",
      "\n",
      "WARNING:tensorflow:From c:\\users\\vmoha\\anaconda2\\envs\\automl_ad\\lib\\site-packages\\keras\\backend\\tensorflow_backend.py:517: The name tf.placeholder is deprecated. Please use tf.compat.v1.placeholder instead.\n",
      "\n",
      "WARNING:tensorflow:From c:\\users\\vmoha\\anaconda2\\envs\\automl_ad\\lib\\site-packages\\keras\\backend\\tensorflow_backend.py:4115: The name tf.random_normal is deprecated. Please use tf.random.normal instead.\n",
      "\n",
      "WARNING:tensorflow:From c:\\users\\vmoha\\anaconda2\\envs\\automl_ad\\lib\\site-packages\\keras\\backend\\tensorflow_backend.py:4138: The name tf.random_uniform is deprecated. Please use tf.random.uniform instead.\n",
      "\n",
      "WARNING:tensorflow:From c:\\users\\vmoha\\anaconda2\\envs\\automl_ad\\lib\\site-packages\\keras\\optimizers.py:790: The name tf.train.Optimizer is deprecated. Please use tf.compat.v1.train.Optimizer instead.\n",
      "\n",
      "WARNING:tensorflow:From c:\\users\\vmoha\\anaconda2\\envs\\automl_ad\\lib\\site-packages\\keras\\backend\\tensorflow_backend.py:3376: The name tf.log is deprecated. Please use tf.math.log instead.\n",
      "\n",
      "WARNING:tensorflow:From c:\\users\\vmoha\\anaconda2\\envs\\automl_ad\\lib\\site-packages\\tensorflow_core\\python\\ops\\nn_impl.py:183: where (from tensorflow.python.ops.array_ops) is deprecated and will be removed in a future version.\n",
      "Instructions for updating:\n",
      "Use tf.where in 2.0, which has the same broadcast rule as np.where\n",
      "WARNING:tensorflow:From c:\\users\\vmoha\\anaconda2\\envs\\automl_ad\\lib\\site-packages\\keras\\backend\\tensorflow_backend.py:986: The name tf.assign_add is deprecated. Please use tf.compat.v1.assign_add instead.\n",
      "\n",
      "WARNING:tensorflow:From c:\\users\\vmoha\\anaconda2\\envs\\automl_ad\\lib\\site-packages\\keras\\backend\\tensorflow_backend.py:973: The name tf.assign is deprecated. Please use tf.compat.v1.assign instead.\n",
      "\n",
      "WARNING:tensorflow:From c:\\users\\vmoha\\anaconda2\\envs\\automl_ad\\lib\\site-packages\\keras\\backend\\tensorflow_backend.py:2741: The name tf.Session is deprecated. Please use tf.compat.v1.Session instead.\n",
      "\n",
      "Train on 576 samples, validate on 193 samples\n",
      "Epoch 1/30\n",
      "WARNING:tensorflow:From c:\\users\\vmoha\\anaconda2\\envs\\automl_ad\\lib\\site-packages\\keras\\backend\\tensorflow_backend.py:174: The name tf.get_default_session is deprecated. Please use tf.compat.v1.get_default_session instead.\n",
      "\n",
      "WARNING:tensorflow:From c:\\users\\vmoha\\anaconda2\\envs\\automl_ad\\lib\\site-packages\\keras\\backend\\tensorflow_backend.py:181: The name tf.ConfigProto is deprecated. Please use tf.compat.v1.ConfigProto instead.\n",
      "\n",
      "WARNING:tensorflow:From c:\\users\\vmoha\\anaconda2\\envs\\automl_ad\\lib\\site-packages\\keras\\backend\\tensorflow_backend.py:190: The name tf.global_variables is deprecated. Please use tf.compat.v1.global_variables instead.\n",
      "\n",
      "WARNING:tensorflow:From c:\\users\\vmoha\\anaconda2\\envs\\automl_ad\\lib\\site-packages\\keras\\backend\\tensorflow_backend.py:199: The name tf.is_variable_initialized is deprecated. Please use tf.compat.v1.is_variable_initialized instead.\n",
      "\n",
      "WARNING:tensorflow:From c:\\users\\vmoha\\anaconda2\\envs\\automl_ad\\lib\\site-packages\\keras\\backend\\tensorflow_backend.py:206: The name tf.variables_initializer is deprecated. Please use tf.compat.v1.variables_initializer instead.\n",
      "\n",
      " - 1s - loss: 0.7264 - val_loss: 0.6899\n",
      "Epoch 2/30\n",
      " - 0s - loss: 0.6907 - val_loss: 0.6896\n",
      "Epoch 3/30\n",
      " - 0s - loss: 0.6851 - val_loss: 0.6861\n",
      "Epoch 4/30\n",
      " - 0s - loss: 0.6775 - val_loss: 0.6838\n",
      "Epoch 5/30\n",
      " - 0s - loss: 0.6736 - val_loss: 0.6817\n",
      "Epoch 6/30\n",
      " - 0s - loss: 0.6701 - val_loss: 0.6801\n",
      "Epoch 7/30\n",
      " - 0s - loss: 0.6665 - val_loss: 0.6782\n",
      "Epoch 8/30\n",
      " - 0s - loss: 0.6627 - val_loss: 0.6786\n",
      "Epoch 9/30\n",
      " - 0s - loss: 0.6591 - val_loss: 0.6639\n",
      "Epoch 10/30\n",
      " - 0s - loss: 0.6526 - val_loss: 0.6587\n",
      "Epoch 11/30\n",
      " - 0s - loss: 0.6482 - val_loss: 0.6444\n",
      "Epoch 12/30\n",
      " - 0s - loss: 0.6428 - val_loss: 0.6368\n",
      "Epoch 13/30\n",
      " - 0s - loss: 0.6370 - val_loss: 0.6369\n",
      "Epoch 14/30\n",
      " - 0s - loss: 0.6352 - val_loss: 0.6356\n",
      "Epoch 15/30\n",
      " - 0s - loss: 0.6294 - val_loss: 0.6264\n",
      "Epoch 16/30\n",
      " - 0s - loss: 0.6290 - val_loss: 0.6250\n",
      "Epoch 17/30\n",
      " - 0s - loss: 0.6284 - val_loss: 0.6355\n",
      "Epoch 18/30\n",
      " - 0s - loss: 0.6249 - val_loss: 0.6377\n",
      "Epoch 19/30\n",
      " - 0s - loss: 0.6231 - val_loss: 0.6392\n",
      "Epoch 20/30\n",
      " - 0s - loss: 0.6161 - val_loss: 0.6099\n",
      "Epoch 21/30\n",
      " - 0s - loss: 0.6181 - val_loss: 0.6126\n",
      "Epoch 22/30\n",
      " - 0s - loss: 0.6179 - val_loss: 0.6102\n",
      "Epoch 23/30\n",
      " - 0s - loss: 0.6148 - val_loss: 0.6363\n",
      "Epoch 24/30\n",
      " - 0s - loss: 0.6182 - val_loss: 0.6014\n",
      "Epoch 25/30\n",
      " - 0s - loss: 0.6141 - val_loss: 0.6100\n",
      "Epoch 26/30\n",
      " - 0s - loss: 0.6090 - val_loss: 0.6005\n",
      "Epoch 27/30\n",
      " - 0s - loss: 0.6081 - val_loss: 0.6002\n",
      "Epoch 28/30\n",
      " - 0s - loss: 0.6081 - val_loss: 0.5927\n",
      "Epoch 29/30\n",
      " - 0s - loss: 0.6087 - val_loss: 0.5910\n",
      "Epoch 30/30\n",
      " - 0s - loss: 0.6070 - val_loss: 0.5957\n",
      "Score on test data by SVM Tree is: 0.41509433962264153\n"
     ]
    }
   ],
   "source": [
    "results = []\n",
    "models_list = []\n",
    "scores_list = []\n",
    "model_files_list = []\n",
    "\n",
    "for model_name, model in models_dict.items():\n",
    "    score, model_file = list(experiment.run(model_name, model))\n",
    "    results.append({model_name: [score, model_file]})\n",
    "    models_list.append(model_name)\n",
    "    scores_list.append(score)\n",
    "    model_files_list.append(model_file)"
   ]
  },
  {
   "cell_type": "markdown",
   "metadata": {},
   "source": [
    "### Calculate and show the scores"
   ]
  },
  {
   "cell_type": "code",
   "execution_count": 5,
   "metadata": {},
   "outputs": [],
   "source": [
    "best_score = max(scores_list)\n",
    "best_score_index = scores_list.index(best_score)\n",
    "best_model = models_list[best_score_index]\n",
    "best_model_file = model_files_list[best_score_index]\n",
    "y_pos = np.arange(len(models_list))\n",
    "scores = scores_list\n",
    "plt.bar(y_pos, scores_list, align='center', alpha=0.5)\n",
    "plt.xticks(y_pos, models_list)\n",
    "plt.ylabel(scoring_type)\n",
    "plt.title('Model Performance')\n",
    "plt.show()"
   ]
  },
  {
   "cell_type": "markdown",
   "metadata": {},
   "source": [
    "### Create ROC"
   ]
  },
  {
   "cell_type": "code",
   "execution_count": 6,
   "metadata": {},
   "outputs": [],
   "source": [
    "experiment.roc(best_model_file, best_model)"
   ]
  }
 ],
 "metadata": {
  "kernelspec": {
   "display_name": "Python 3",
   "language": "python",
   "name": "python3"
  },
  "language_info": {
   "codemirror_mode": {
    "name": "ipython",
    "version": 3
   },
   "file_extension": ".py",
   "mimetype": "text/x-python",
   "name": "python",
   "nbconvert_exporter": "python",
   "pygments_lexer": "ipython3",
   "version": "3.7.5"
  }
 },
 "nbformat": 4,
 "nbformat_minor": 2
}
