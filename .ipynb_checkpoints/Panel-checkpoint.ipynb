{
 "cells": [
  {
   "cell_type": "markdown",
   "metadata": {},
   "source": [
    "\n"
   ]
  },
  {
   "cell_type": "markdown",
   "metadata": {},
   "source": [
    "# Introduction\n",
    "This application is a binary classification AUTO ML which runs 6 different models and chooses\n",
    "the best one based on the score picked by user. After running this program, you will get the score diagram of\n",
    "all models, ROC chart of the best model, and pickled files of all 6 models.\n",
    "## Models used in this Auto ML\n",
    "Models used in this application:\n",
    "    1- Decision Tree\n",
    "    2- Random Forest\n",
    "    3- K Nearest Neighbors\n",
    "    4- NeuralNetwork\n",
    "    5- SVM\n",
    "    6- Logistic Regression\n",
    "    \n",
    "## How to run Classification Auto ML?\n",
    "    1-  Copy all the files in this directory in your computer\n",
    "\n",
    "    2-  Initialize(edit) the config.ini with these parameters:\n",
    "\n",
    "        filename:  Full path of the input file. This app assumes that all test and training data are integrated in\n",
    "        one csv file.\n",
    "        Example: C:/Users/danta/PycharmProjects/automl_ad/diabet.csv\n",
    "\n",
    "        test_size = The size of test data you want be chooses off the whole data. This number is between 0 and 1.\n",
    "        Example: 0.25\n",
    "\n",
    "        target: The target column of your data\n",
    "        Example: class\n",
    "\n",
    "        scoring_type: The type of score you want Auto ML chooses the model based on. For this application available options\n",
    "        are: [accuracy, precision, average_precision_score, f1_score, log_loss, recall]\n",
    "        Example: accuracy\n",
    "\n",
    "    3-  Please run the \"Panel.py\" or this file \"Panel.ipynb\".\n",
    "    \n",
    "## How to add a new model to this Auto Model?\n",
    "    Please refer to help document of this application (\"help.txt\"). "
   ]
  },
  {
   "cell_type": "markdown",
   "metadata": {},
   "source": [
    "### Import Modules"
   ]
  },
  {
   "cell_type": "code",
   "execution_count": 7,
   "metadata": {},
   "outputs": [],
   "source": [
    "from Models_List import models_dict\n",
    "from AutoModel import DataModel\n",
    "import matplotlib.pyplot as plt; plt.rcdefaults()\n",
    "import numpy as np\n",
    "import matplotlib.pyplot as plt\n",
    "from configparser import ConfigParser\n",
    "%matplotlib qt"
   ]
  },
  {
   "cell_type": "markdown",
   "metadata": {},
   "source": [
    "### Fetch the Parameters"
   ]
  },
  {
   "cell_type": "code",
   "execution_count": 8,
   "metadata": {},
   "outputs": [],
   "source": [
    "parser = ConfigParser()\n",
    "parser.read('config.ini')\n",
    "filename = parser.get('files', 'filename')\n",
    "test_size = eval(parser.get('model', 'test_size'))\n",
    "target = parser.get('model', 'target')\n",
    "scoring_type = parser.get('model', 'scoring_type')"
   ]
  },
  {
   "cell_type": "markdown",
   "metadata": {},
   "source": [
    "### Create an instance of experiment"
   ]
  },
  {
   "cell_type": "code",
   "execution_count": 9,
   "metadata": {},
   "outputs": [],
   "source": [
    "experiment = DataModel(filename, scoring_type, test_size=test_size, target=target)"
   ]
  },
  {
   "cell_type": "markdown",
   "metadata": {},
   "source": [
    "### Trigger the experiment"
   ]
  },
  {
   "cell_type": "code",
   "execution_count": 10,
   "metadata": {},
   "outputs": [
    {
     "name": "stdout",
     "output_type": "stream",
     "text": [
      "Score on test data by Decision Tree is: 0.5925925925925926\n",
      "Score on test data by Random Forest is: 0.6515151515151515\n",
      "Score on test data by SVM is: 0.6461538461538462\n",
      "Score on test data by KNN is: 0.5426356589147286\n",
      "Score on test data by Logistic Regression is: 0.6666666666666666\n",
      "Train on 576 samples, validate on 193 samples\n",
      "Epoch 1/30\n",
      " - 0s - loss: 0.7506 - val_loss: 0.7039\n",
      "Epoch 2/30\n",
      " - 0s - loss: 0.6826 - val_loss: 0.6936\n",
      "Epoch 3/30\n",
      " - 0s - loss: 0.6726 - val_loss: 0.6882\n",
      "Epoch 4/30\n",
      " - 0s - loss: 0.6659 - val_loss: 0.6804\n",
      "Epoch 5/30\n",
      " - 0s - loss: 0.6603 - val_loss: 0.6761\n",
      "Epoch 6/30\n",
      " - 0s - loss: 0.6528 - val_loss: 0.6723\n",
      "Epoch 7/30\n",
      " - 0s - loss: 0.6461 - val_loss: 0.6607\n",
      "Epoch 8/30\n",
      " - 0s - loss: 0.6438 - val_loss: 0.6565\n",
      "Epoch 9/30\n",
      " - 0s - loss: 0.6408 - val_loss: 0.6524\n",
      "Epoch 10/30\n",
      " - 0s - loss: 0.6383 - val_loss: 0.6537\n",
      "Epoch 11/30\n",
      " - 0s - loss: 0.6324 - val_loss: 0.6469\n",
      "Epoch 12/30\n",
      " - 0s - loss: 0.6271 - val_loss: 0.6480\n",
      "Epoch 13/30\n",
      " - 0s - loss: 0.6236 - val_loss: 0.6406\n",
      "Epoch 14/30\n",
      " - 0s - loss: 0.6208 - val_loss: 0.6473\n",
      "Epoch 15/30\n",
      " - 0s - loss: 0.6194 - val_loss: 0.6317\n",
      "Epoch 16/30\n",
      " - 0s - loss: 0.6185 - val_loss: 0.6362\n",
      "Epoch 17/30\n",
      " - 0s - loss: 0.6119 - val_loss: 0.6300\n",
      "Epoch 18/30\n",
      " - 0s - loss: 0.6089 - val_loss: 0.6243\n",
      "Epoch 19/30\n",
      " - 0s - loss: 0.6054 - val_loss: 0.6417\n",
      "Epoch 20/30\n",
      " - 0s - loss: 0.6032 - val_loss: 0.6220\n",
      "Epoch 21/30\n",
      " - 0s - loss: 0.6038 - val_loss: 0.6350\n",
      "Epoch 22/30\n",
      " - 0s - loss: 0.6021 - val_loss: 0.6213\n",
      "Epoch 23/30\n",
      " - 0s - loss: 0.5972 - val_loss: 0.6334\n",
      "Epoch 24/30\n",
      " - 0s - loss: 0.6050 - val_loss: 0.6272\n",
      "Epoch 25/30\n",
      " - 0s - loss: 0.5947 - val_loss: 0.6155\n",
      "Epoch 26/30\n",
      " - 0s - loss: 0.5958 - val_loss: 0.6145\n",
      "Epoch 27/30\n",
      " - 0s - loss: 0.5899 - val_loss: 0.6133\n",
      "Epoch 28/30\n",
      " - 0s - loss: 0.5927 - val_loss: 0.6143\n",
      "Epoch 29/30\n",
      " - 0s - loss: 0.5879 - val_loss: 0.6241\n",
      "Epoch 30/30\n",
      " - 0s - loss: 0.5892 - val_loss: 0.6262\n",
      "Score on test data by SVM Tree is: 0.2978723404255319\n"
     ]
    }
   ],
   "source": [
    "results = []\n",
    "models_list = []\n",
    "scores_list = []\n",
    "model_files_list = []\n",
    "\n",
    "for model_name, model in models_dict.items():\n",
    "    score, model_file = list(experiment.run(model_name, model))\n",
    "    results.append({model_name: [score, model_file]})\n",
    "    models_list.append(model_name)\n",
    "    scores_list.append(score)\n",
    "    model_files_list.append(model_file)"
   ]
  },
  {
   "cell_type": "markdown",
   "metadata": {},
   "source": [
    "### Calculate and show the scores"
   ]
  },
  {
   "cell_type": "code",
   "execution_count": 5,
   "metadata": {},
   "outputs": [],
   "source": [
    "best_score = max(scores_list)\n",
    "best_score_index = scores_list.index(best_score)\n",
    "best_model = models_list[best_score_index]\n",
    "best_model_file = model_files_list[best_score_index]\n",
    "y_pos = np.arange(len(models_list))\n",
    "scores = scores_list\n",
    "plt.bar(y_pos, scores_list, align='center', alpha=0.5)\n",
    "plt.xticks(y_pos, models_list)\n",
    "plt.ylabel(scoring_type)\n",
    "plt.title('Model Performance')\n",
    "plt.show()"
   ]
  },
  {
   "cell_type": "markdown",
   "metadata": {},
   "source": [
    "### Create ROC"
   ]
  },
  {
   "cell_type": "code",
   "execution_count": 6,
   "metadata": {},
   "outputs": [],
   "source": [
    "experiment.roc(best_model_file, best_model)"
   ]
  }
 ],
 "metadata": {
  "kernelspec": {
   "display_name": "Python 3",
   "language": "python",
   "name": "python3"
  },
  "language_info": {
   "codemirror_mode": {
    "name": "ipython",
    "version": 3
   },
   "file_extension": ".py",
   "mimetype": "text/x-python",
   "name": "python",
   "nbconvert_exporter": "python",
   "pygments_lexer": "ipython3",
   "version": "3.7.5"
  }
 },
 "nbformat": 4,
 "nbformat_minor": 2
}
